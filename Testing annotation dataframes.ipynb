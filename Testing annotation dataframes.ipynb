{
 "cells": [
  {
   "cell_type": "code",
   "execution_count": 1,
   "id": "5e934b64-27ec-4eb1-8f91-271658b3f481",
   "metadata": {},
   "outputs": [
    {
     "data": {
      "text/html": [
       "<style>.container { width:100% !important; }</style>"
      ],
      "text/plain": [
       "<IPython.core.display.HTML object>"
      ]
     },
     "metadata": {},
     "output_type": "display_data"
    }
   ],
   "source": [
    "import os\n",
    "import re\n",
    "import json \n",
    "import pandas as pd\n",
    "from IPython.display import display, HTML\n",
    "\n",
    "display(HTML(\"<style>.container { width:100% !important; }</style>\"))\n",
    "\n",
    "# Set display options\n",
    "pd.set_option('display.max_rows', None)  # Show all rows\n",
    "pd.set_option('display.max_columns', None)  # Show all columns\n",
    "pd.set_option('display.width', None)  # Set display width to avoid automatic line-wrapping\n",
    "pd.set_option('display.max_colwidth', None)  # Show full content of each cell\n",
    "\n",
    "#make dataframe to store jargon\n",
    "jargon_dataframes = {}\n",
    "#where jargon is\n",
    "jargon_directory = '/home/louis/board_repair_training/jargon_lists/'\n",
    "#read each csv file with a jargon list into a pandas dataframe named by the type of jargon it is(resistors, signals, etc)\n",
    "for eachfile in os.listdir(jargon_directory):\n",
    "\tif eachfile.endswith('.csv'):\n",
    "\t\tfile_path = os.path.join(jargon_directory, eachfile)\n",
    "\t\tfile_name = os.path.splitext(eachfile)[0]\n",
    "\t\tjargon_dataframes[file_name] = pd.read_csv(file_path, header=0).fillna('')"
   ]
  },
  {
   "cell_type": "code",
   "execution_count": 2,
   "id": "f5a9639a-d9fb-4ab0-8d94-b3333dd6ace0",
   "metadata": {},
   "outputs": [],
   "source": [
    "combined_jargon_df = pd.DataFrame()\n",
    "for jargon_type, df in jargon_dataframes.items():\n",
    "\tdf['jargon_type'] = jargon_type.upper()  # Add a column for jargon type\n",
    "\tcombined_jargon_df = pd.concat([combined_jargon_df, df], ignore_index=True)\n"
   ]
  },
  {
   "cell_type": "code",
   "execution_count": null,
   "id": "1b0175b7-17d5-4dbb-9bb4-df3881f4884a",
   "metadata": {},
   "outputs": [],
   "source": [
    "  "
   ]
  },
  {
   "cell_type": "code",
   "execution_count": 3,
   "id": "f11a7454-6d5b-4096-af1e-ae8dd877d045",
   "metadata": {},
   "outputs": [
    {
     "name": "stdout",
     "output_type": "stream",
     "text": [
      "capacitor\n",
      "signal name\n",
      "resistor\n",
      "logic board part number\n",
      "chip\n",
      "diode\n",
      "macbook model number\n"
     ]
    }
   ],
   "source": [
    "for jargon_type in jargon_dataframes.keys():\n",
    "    print(jargon_type)"
   ]
  },
  {
   "cell_type": "code",
   "execution_count": 4,
   "id": "2449bf43-d024-4d93-b784-3c30847dbc62",
   "metadata": {},
   "outputs": [
    {
     "ename": "KeyError",
     "evalue": "'capacitors'",
     "output_type": "error",
     "traceback": [
      "\u001b[0;31m---------------------------------------------------------------------------\u001b[0m",
      "\u001b[0;31mKeyError\u001b[0m                                  Traceback (most recent call last)",
      "Cell \u001b[0;32mIn[4], line 1\u001b[0m\n\u001b[0;32m----> 1\u001b[0m \u001b[38;5;28mprint\u001b[39m(\u001b[43mjargon_dataframes\u001b[49m\u001b[43m[\u001b[49m\u001b[38;5;124;43m'\u001b[39;49m\u001b[38;5;124;43mcapacitors\u001b[39;49m\u001b[38;5;124;43m'\u001b[39;49m\u001b[43m]\u001b[49m)\n",
      "\u001b[0;31mKeyError\u001b[0m: 'capacitors'"
     ]
    }
   ],
   "source": [
    "print(jargon_dataframes['capacitors'])"
   ]
  },
  {
   "cell_type": "code",
   "execution_count": null,
   "id": "fa289f81-4bed-410f-b5c2-40dc9deb859e",
   "metadata": {},
   "outputs": [],
   "source": [
    "print(jargon_dataframes['logic_board_part_numbers'])"
   ]
  },
  {
   "cell_type": "code",
   "execution_count": null,
   "id": "be10080a-e339-41ef-a7e5-dd80f4b7256b",
   "metadata": {},
   "outputs": [],
   "source": [
    "jargon_dataframes['capacitors']"
   ]
  },
  {
   "cell_type": "code",
   "execution_count": 9,
   "id": "7c3337fe-a302-4eea-b693-8731e002dd3d",
   "metadata": {},
   "outputs": [
    {
     "ename": "NameError",
     "evalue": "name 'c7771' is not defined",
     "output_type": "error",
     "traceback": [
      "\u001b[0;31m---------------------------------------------------------------------------\u001b[0m",
      "\u001b[0;31mNameError\u001b[0m                                 Traceback (most recent call last)",
      "Cell \u001b[0;32mIn[9], line 1\u001b[0m\n\u001b[0;32m----> 1\u001b[0m combined_jargon_df[\u001b[43mc7771\u001b[49m]\n",
      "\u001b[0;31mNameError\u001b[0m: name 'c7771' is not defined"
     ]
    }
   ],
   "source": [
    " combined_jargon_df[c7771]"
   ]
  },
  {
   "cell_type": "code",
   "execution_count": 13,
   "id": "5ddc902c-35fd-44c1-b464-d4edaaea2afa",
   "metadata": {},
   "outputs": [
    {
     "data": {
      "text/html": [
       "<div>\n",
       "<style scoped>\n",
       "    .dataframe tbody tr th:only-of-type {\n",
       "        vertical-align: middle;\n",
       "    }\n",
       "\n",
       "    .dataframe tbody tr th {\n",
       "        vertical-align: top;\n",
       "    }\n",
       "\n",
       "    .dataframe thead th {\n",
       "        text-align: right;\n",
       "    }\n",
       "</style>\n",
       "<table border=\"1\" class=\"dataframe\">\n",
       "  <thead>\n",
       "    <tr style=\"text-align: right;\">\n",
       "      <th></th>\n",
       "      <th>NAME</th>\n",
       "      <th>DESCRIPTION</th>\n",
       "      <th>jargon_type</th>\n",
       "    </tr>\n",
       "  </thead>\n",
       "  <tbody>\n",
       "  </tbody>\n",
       "</table>\n",
       "</div>"
      ],
      "text/plain": [
       "Empty DataFrame\n",
       "Columns: [NAME, DESCRIPTION, jargon_type]\n",
       "Index: []"
      ]
     },
     "execution_count": 13,
     "metadata": {},
     "output_type": "execute_result"
    }
   ],
   "source": [
    "combined_jargon_df[combined_jargon_df['NAME'] == 'C7771']"
   ]
  },
  {
   "cell_type": "code",
   "execution_count": null,
   "id": "de0fca71-aa87-4229-9d36-b75f4582af98",
   "metadata": {},
   "outputs": [],
   "source": []
  }
 ],
 "metadata": {
  "kernelspec": {
   "display_name": "Python 3 (ipykernel)",
   "language": "python",
   "name": "python3"
  },
  "language_info": {
   "codemirror_mode": {
    "name": "ipython",
    "version": 3
   },
   "file_extension": ".py",
   "mimetype": "text/x-python",
   "name": "python",
   "nbconvert_exporter": "python",
   "pygments_lexer": "ipython3",
   "version": "3.11.6"
  }
 },
 "nbformat": 4,
 "nbformat_minor": 5
}
