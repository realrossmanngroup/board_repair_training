{
 "cells": [
  {
   "cell_type": "code",
   "execution_count": 2,
   "id": "5e934b64-27ec-4eb1-8f91-271658b3f481",
   "metadata": {},
   "outputs": [],
   "source": [
    "import pandas as pd\n",
    "import os\n",
    "import re\n",
    "import json \n",
    "\n",
    "#make dataframe to store jargon\n",
    "jargon_dataframes = {}\n",
    "#where jargon is\n",
    "jargon_directory = '/home/louis/board_repair_training/jargon_lists/'\n",
    "#read each csv file with a jargon list into a pandas dataframe named by the type of jargon it is(resistors, signals, etc)\n",
    "for eachfile in os.listdir(jargon_directory):\n",
    "\tif eachfile.endswith('.csv'):\n",
    "\t\tfile_path = os.path.join(jargon_directory, eachfile)\n",
    "\t\tfile_name = os.path.splitext(eachfile)[0]\n",
    "\t\tjargon_dataframes[file_name] = pd.read_csv(file_path, header=0).fillna('')"
   ]
  },
  {
   "cell_type": "code",
   "execution_count": 3,
   "id": "f5a9639a-d9fb-4ab0-8d94-b3333dd6ace0",
   "metadata": {},
   "outputs": [],
   "source": [
    "combined_jargon_df = pd.DataFrame()\n",
    "for jargon_type, df in jargon_dataframes.items():\n",
    "\tdf['jargon_type'] = jargon_type.upper()  # Add a column for jargon type\n",
    "\tcombined_jargon_df = pd.concat([combined_jargon_df, df], ignore_index=True)\n"
   ]
  },
  {
   "cell_type": "code",
   "execution_count": 4,
   "id": "1b0175b7-17d5-4dbb-9bb4-df3881f4884a",
   "metadata": {},
   "outputs": [
    {
     "name": "stdout",
     "output_type": "stream",
     "text": [
      "     Capacitor number                                        Description  \\\n",
      "0               c9009                                                      \n",
      "1               C4615                                                      \n",
      "2               C4617                                                      \n",
      "3               c7771  Tantalum capacitor on 820-2330 and 820-2532 lo...   \n",
      "4               C7796                                                      \n",
      "...               ...                                                ...   \n",
      "9545              NaN  A2337 is a model number for a 13\" size MacBook...   \n",
      "9546              NaN  A2338 is a model number for a 13\" size MacBook...   \n",
      "9547              NaN  A2442 is a model number for a 14\" size MacBook...   \n",
      "9548              NaN  A2485 is a model number for a 16\" size MacBook...   \n",
      "9549              NaN  A2681 is a model number for a 13\" size MacBook...   \n",
      "\n",
      "                jargon_type Diode name Resistor number SIGNAL NAME  \\\n",
      "0                CAPACITORS        NaN             NaN         NaN   \n",
      "1                CAPACITORS        NaN             NaN         NaN   \n",
      "2                CAPACITORS        NaN             NaN         NaN   \n",
      "3                CAPACITORS        NaN             NaN         NaN   \n",
      "4                CAPACITORS        NaN             NaN         NaN   \n",
      "...                     ...        ...             ...         ...   \n",
      "9545  MACBOOK_MODEL_NUMBERS        NaN             NaN         NaN   \n",
      "9546  MACBOOK_MODEL_NUMBERS        NaN             NaN         NaN   \n",
      "9547  MACBOOK_MODEL_NUMBERS        NaN             NaN         NaN   \n",
      "9548  MACBOOK_MODEL_NUMBERS        NaN             NaN         NaN   \n",
      "9549  MACBOOK_MODEL_NUMBERS        NaN             NaN         NaN   \n",
      "\n",
      "     SIMPLE EXPLANATION Chip Unnamed: 2 Unnamed: 3 Unnamed: 4 Unnamed: 5  \\\n",
      "0                   NaN  NaN        NaN        NaN        NaN        NaN   \n",
      "1                   NaN  NaN        NaN        NaN        NaN        NaN   \n",
      "2                   NaN  NaN        NaN        NaN        NaN        NaN   \n",
      "3                   NaN  NaN        NaN        NaN        NaN        NaN   \n",
      "4                   NaN  NaN        NaN        NaN        NaN        NaN   \n",
      "...                 ...  ...        ...        ...        ...        ...   \n",
      "9545                NaN  NaN        NaN        NaN        NaN        NaN   \n",
      "9546                NaN  NaN        NaN        NaN        NaN        NaN   \n",
      "9547                NaN  NaN        NaN        NaN        NaN        NaN   \n",
      "9548                NaN  NaN        NaN        NaN        NaN        NaN   \n",
      "9549                NaN  NaN        NaN        NaN        NaN        NaN   \n",
      "\n",
      "     Unnamed: 6 Unnamed: 7 Unnamed: 8 Board number Model Number  \n",
      "0           NaN        NaN        NaN          NaN          NaN  \n",
      "1           NaN        NaN        NaN          NaN          NaN  \n",
      "2           NaN        NaN        NaN          NaN          NaN  \n",
      "3           NaN        NaN        NaN          NaN          NaN  \n",
      "4           NaN        NaN        NaN          NaN          NaN  \n",
      "...         ...        ...        ...          ...          ...  \n",
      "9545        NaN        NaN        NaN          NaN        A2337  \n",
      "9546        NaN        NaN        NaN          NaN        A2338  \n",
      "9547        NaN        NaN        NaN          NaN        A2442  \n",
      "9548        NaN        NaN        NaN          NaN        A2485  \n",
      "9549        NaN        NaN        NaN          NaN        A2681  \n",
      "\n",
      "[9550 rows x 17 columns]\n"
     ]
    }
   ],
   "source": [
    "print(combined_jargon_df)"
   ]
  },
  {
   "cell_type": "code",
   "execution_count": null,
   "id": "f11a7454-6d5b-4096-af1e-ae8dd877d045",
   "metadata": {},
   "outputs": [],
   "source": []
  }
 ],
 "metadata": {
  "kernelspec": {
   "display_name": "Python 3 (ipykernel)",
   "language": "python",
   "name": "python3"
  },
  "language_info": {
   "codemirror_mode": {
    "name": "ipython",
    "version": 3
   },
   "file_extension": ".py",
   "mimetype": "text/x-python",
   "name": "python",
   "nbconvert_exporter": "python",
   "pygments_lexer": "ipython3",
   "version": "3.11.6"
  }
 },
 "nbformat": 4,
 "nbformat_minor": 5
}
